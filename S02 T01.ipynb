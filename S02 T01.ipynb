{
 "cells": [
  {
   "cell_type": "markdown",
   "id": "e8765eee",
   "metadata": {},
   "source": [
    "# S02 T01: Estructura de dades"
   ]
  },
  {
   "cell_type": "markdown",
   "id": "0aae5a2a",
   "metadata": {},
   "source": [
    "## Exercici 1\n",
    "### Crea una llista que agrupi els mesos de l’any en trimestres (1T: Gener, Febrer i Març, 2T: Abril, Maig, Juny...), és a dir, una llista amb 4 llistes dins."
   ]
  },
  {
   "cell_type": "code",
   "execution_count": 1,
   "id": "fd44e543",
   "metadata": {},
   "outputs": [
    {
     "name": "stdout",
     "output_type": "stream",
     "text": [
      "[['Enero', 'Febrero', 'Marzo'], ['Abril', 'Mayo', 'Junio'], ['Julio', 'Agosto', 'Septiembre'], ['Octubre', 'Noviembre', 'Diciembre']]\n"
     ]
    }
   ],
   "source": [
    "list1 = [[\"Enero\", \"Febrero\", \"Marzo\"], [\"Abril\", \"Mayo\", \"Junio\"], [\"Julio\", \"Agosto\", \"Septiembre\"], [\"Octubre\", \"Noviembre\", \"Diciembre\"]]\n",
    "print(list1)"
   ]
  },
  {
   "cell_type": "markdown",
   "id": "d73bce52",
   "metadata": {},
   "source": [
    "## Exercici 2\n",
    "### Crea un codi que et permeti accedir a:\n",
    "* El segon mes del primer trimestre\n",
    "* Els mesos del primer trimestre\n",
    "* Setembre i octubre"
   ]
  },
  {
   "cell_type": "code",
   "execution_count": 2,
   "id": "e449766e",
   "metadata": {},
   "outputs": [
    {
     "name": "stdout",
     "output_type": "stream",
     "text": [
      "Febrero\n",
      "['Enero', 'Febrero', 'Marzo']\n",
      "Septiembre Octubre\n"
     ]
    }
   ],
   "source": [
    "print(list1[0][1])\n",
    "print(list1[0])\n",
    "print(list1[2][2], list1[3][0])"
   ]
  },
  {
   "cell_type": "markdown",
   "id": "ae64e1e9",
   "metadata": {},
   "source": [
    "## Exercici 3\n",
    "### Crea una llista amb nombres desordenats i respon a les següents preguntes:\n",
    "\n",
    "* Quants números hi ha?\n",
    "* Quantes vegades apareix el número 3\n",
    "* Quantes vegades apareixen els nombres 3 i 4?\n",
    "* Quin és el número més gran?\n",
    "* Quins són els 3 números més petits?\n",
    "* Quin és el rang d’aquesta llista?"
   ]
  },
  {
   "cell_type": "code",
   "execution_count": 3,
   "id": "be38656e",
   "metadata": {},
   "outputs": [
    {
     "name": "stdout",
     "output_type": "stream",
     "text": [
      "20\n",
      "2\n",
      "2 2\n",
      "10\n",
      "[1, 2, 2]\n",
      "9\n"
     ]
    }
   ],
   "source": [
    "list2 = [5, 10, 5, 4, 9, 9, 2, 6, 2, 7, 3, 8, 5, 1, 4, 3, 7, 8, 6, 6]\n",
    "print(len(list2))\n",
    "print(list2.count(3))\n",
    "print(list2.count(3), list2.count(4))\n",
    "list2.sort()\n",
    "print(list2[len(list2)-1])\n",
    "print(list2[:3])\n",
    "print(list2[len(list2)-1] - list2[0])"
   ]
  },
  {
   "cell_type": "markdown",
   "id": "9f43f86a",
   "metadata": {},
   "source": [
    "## Exercici 4\n",
    "### Crea un diccionari de la següent forma i respon a les preguntes:\n",
    "#### compra = { \"Pomes\" : {\"Qty\": 5, \"€\": 0.42}, \"Peres\" : {\"Qty\": 3, \"€\": 0.66} }\n",
    "\n",
    "* Afegeix alguna fruita més\n",
    "* Quant han costat les peres en total?\n",
    "* Quantes fruites hem comprat en total?\n",
    "* Quina és la fruita més cara?"
   ]
  },
  {
   "cell_type": "code",
   "execution_count": 4,
   "id": "0415ffe1",
   "metadata": {},
   "outputs": [
    {
     "name": "stdout",
     "output_type": "stream",
     "text": [
      "{'Pomes': {'Qty': 5, '€': 0.42}, 'Peres': {'Qty': 3, '€': 0.66}, 'Taronja': {'Qty': 8, '€': 0.55}}\n",
      "1.98\n",
      "16\n",
      "('Peres', {'Qty': 3, '€': 0.66})\n"
     ]
    }
   ],
   "source": [
    "compra = { \"Pomes\" : {\"Qty\": 5, \"€\": 0.42}, \"Peres\" : {\"Qty\": 3, \"€\": 0.66} }\n",
    "compra[\"Taronja\"] = {\"Qty\": 8, \"€\": 0.55}\n",
    "print(compra)\n",
    "print(compra[\"Peres\"][\"Qty\"] * compra[\"Peres\"][\"€\"])\n",
    "print(compra[\"Peres\"][\"Qty\"] + compra[\"Pomes\"][\"Qty\"] + compra[\"Taronja\"][\"Qty\"])\n",
    "a = 0\n",
    "for x in compra.items():\n",
    "  if a < x[1][\"€\"]:\n",
    "    a = x[1][\"€\"]\n",
    "    b = x\n",
    "    \n",
    "print(b)"
   ]
  },
  {
   "cell_type": "code",
   "execution_count": null,
   "id": "38f9cb43",
   "metadata": {},
   "outputs": [],
   "source": []
  }
 ],
 "metadata": {
  "kernelspec": {
   "display_name": "Python 3 (ipykernel)",
   "language": "python",
   "name": "python3"
  },
  "language_info": {
   "codemirror_mode": {
    "name": "ipython",
    "version": 3
   },
   "file_extension": ".py",
   "mimetype": "text/x-python",
   "name": "python",
   "nbconvert_exporter": "python",
   "pygments_lexer": "ipython3",
   "version": "3.9.7"
  }
 },
 "nbformat": 4,
 "nbformat_minor": 5
}
